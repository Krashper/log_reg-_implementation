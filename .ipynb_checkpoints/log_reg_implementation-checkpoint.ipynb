{
 "cells": [
  {
   "cell_type": "code",
   "execution_count": 1,
   "id": "265f7731",
   "metadata": {},
   "outputs": [],
   "source": [
    "import pandas as pd\n",
    "import numpy as np\n",
    "import seaborn as sns\n",
    "import matplotlib.pyplot as plt\n",
    "from sklearn import datasets\n",
    "import math"
   ]
  },
  {
   "cell_type": "markdown",
   "id": "c7926448",
   "metadata": {},
   "source": [
    "# Загрузка данных и их обработка"
   ]
  },
  {
   "cell_type": "code",
   "execution_count": 26,
   "id": "f780e983",
   "metadata": {},
   "outputs": [
    {
     "name": "stdout",
     "output_type": "stream",
     "text": [
      "<class 'pandas.core.frame.DataFrame'>\n",
      "Int64Index: 100 entries, 50 to 149\n",
      "Data columns (total 5 columns):\n",
      " #   Column             Non-Null Count  Dtype  \n",
      "---  ------             --------------  -----  \n",
      " 0   sepal length (cm)  100 non-null    float64\n",
      " 1   sepal width (cm)   100 non-null    float64\n",
      " 2   petal length (cm)  100 non-null    float64\n",
      " 3   petal width (cm)   100 non-null    float64\n",
      " 4   target             100 non-null    int32  \n",
      "dtypes: float64(4), int32(1)\n",
      "memory usage: 4.3 KB\n"
     ]
    }
   ],
   "source": [
    "iris = datasets.load_iris()\n",
    "data = pd.DataFrame(iris.data, columns=iris.feature_names)\n",
    "data['target'] = iris.target\n",
    "\n",
    "data = data.loc[(data[\"target\"] == 1) | (data[\"target\"] == 2)] # выбор нужных классов ириса\n",
    "data.info()"
   ]
  },
  {
   "cell_type": "code",
   "execution_count": 27,
   "id": "1738c61f",
   "metadata": {},
   "outputs": [
    {
     "data": {
      "text/html": [
       "<div>\n",
       "<style scoped>\n",
       "    .dataframe tbody tr th:only-of-type {\n",
       "        vertical-align: middle;\n",
       "    }\n",
       "\n",
       "    .dataframe tbody tr th {\n",
       "        vertical-align: top;\n",
       "    }\n",
       "\n",
       "    .dataframe thead th {\n",
       "        text-align: right;\n",
       "    }\n",
       "</style>\n",
       "<table border=\"1\" class=\"dataframe\">\n",
       "  <thead>\n",
       "    <tr style=\"text-align: right;\">\n",
       "      <th></th>\n",
       "      <th>sepal length (cm)</th>\n",
       "      <th>sepal width (cm)</th>\n",
       "      <th>petal length (cm)</th>\n",
       "      <th>petal width (cm)</th>\n",
       "      <th>target</th>\n",
       "    </tr>\n",
       "  </thead>\n",
       "  <tbody>\n",
       "    <tr>\n",
       "      <th>50</th>\n",
       "      <td>7.0</td>\n",
       "      <td>3.2</td>\n",
       "      <td>4.7</td>\n",
       "      <td>1.4</td>\n",
       "      <td>1</td>\n",
       "    </tr>\n",
       "    <tr>\n",
       "      <th>51</th>\n",
       "      <td>6.4</td>\n",
       "      <td>3.2</td>\n",
       "      <td>4.5</td>\n",
       "      <td>1.5</td>\n",
       "      <td>1</td>\n",
       "    </tr>\n",
       "    <tr>\n",
       "      <th>52</th>\n",
       "      <td>6.9</td>\n",
       "      <td>3.1</td>\n",
       "      <td>4.9</td>\n",
       "      <td>1.5</td>\n",
       "      <td>1</td>\n",
       "    </tr>\n",
       "    <tr>\n",
       "      <th>53</th>\n",
       "      <td>5.5</td>\n",
       "      <td>2.3</td>\n",
       "      <td>4.0</td>\n",
       "      <td>1.3</td>\n",
       "      <td>1</td>\n",
       "    </tr>\n",
       "    <tr>\n",
       "      <th>54</th>\n",
       "      <td>6.5</td>\n",
       "      <td>2.8</td>\n",
       "      <td>4.6</td>\n",
       "      <td>1.5</td>\n",
       "      <td>1</td>\n",
       "    </tr>\n",
       "  </tbody>\n",
       "</table>\n",
       "</div>"
      ],
      "text/plain": [
       "    sepal length (cm)  sepal width (cm)  petal length (cm)  petal width (cm)  \\\n",
       "50                7.0               3.2                4.7               1.4   \n",
       "51                6.4               3.2                4.5               1.5   \n",
       "52                6.9               3.1                4.9               1.5   \n",
       "53                5.5               2.3                4.0               1.3   \n",
       "54                6.5               2.8                4.6               1.5   \n",
       "\n",
       "    target  \n",
       "50       1  \n",
       "51       1  \n",
       "52       1  \n",
       "53       1  \n",
       "54       1  "
      ]
     },
     "execution_count": 27,
     "metadata": {},
     "output_type": "execute_result"
    }
   ],
   "source": [
    "data.head()"
   ]
  },
  {
   "cell_type": "code",
   "execution_count": 29,
   "id": "acaee77b",
   "metadata": {},
   "outputs": [
    {
     "data": {
      "text/plain": [
       "0    50\n",
       "1    50\n",
       "Name: target, dtype: int64"
      ]
     },
     "execution_count": 29,
     "metadata": {},
     "output_type": "execute_result"
    }
   ],
   "source": [
    "X = data.drop([\"target\"], axis=1)\n",
    "Y = data[\"target\"].map({2: 1, 1: 0})\n",
    "Y.value_counts()"
   ]
  },
  {
   "cell_type": "code",
   "execution_count": 50,
   "id": "d3758e63",
   "metadata": {},
   "outputs": [],
   "source": [
    "from sklearn.model_selection import train_test_split\n",
    "\n",
    "X_train, X_test, Y_train, Y_test = train_test_split(X, Y, test_size=0.3, random_state=42)"
   ]
  },
  {
   "cell_type": "markdown",
   "id": "e15f413f",
   "metadata": {},
   "source": [
    "# Реализация класса логистической регрессии"
   ]
  },
  {
   "cell_type": "code",
   "execution_count": 60,
   "id": "94127bc8",
   "metadata": {},
   "outputs": [],
   "source": [
    "class MyLogisticRegression:\n",
    "    def __init__(self, learning_rate=0.0015, num_iterations=10000):\n",
    "        self.learning_rate = learning_rate\n",
    "        self.num_iterations = num_iterations\n",
    "        self.weight = None\n",
    "        self.bias = None\n",
    "\n",
    "    def sigmoid(self, z):\n",
    "        return 1 / (1 + np.exp(-z))\n",
    "\n",
    "    def cross_entropy(self, h0, y, m):\n",
    "        h0 = np.clip(h0, 0.0001, 0.9999)\n",
    "        return np.sum(-y * np.log(h0) - (1 - y) * np.log(1 - h0))/m\n",
    "\n",
    "    def fit_gradient(self, X_train, Y_train):\n",
    "        X_train = X_train.values\n",
    "        Y_train = Y_train.values\n",
    "        X_train = X_train.T\n",
    "        Y_train = Y_train.reshape(1, X_train.shape[1])\n",
    "        m = X_train.shape[1]\n",
    "        n = X_train.shape[0]\n",
    "        self.weight = np.zeros((n,1))\n",
    "        self.bias = 0\n",
    "        cost_list = []\n",
    "        for i in range(self.num_iterations):\n",
    "            z = np.dot(self.weight.T, X_train) + self.bias\n",
    "            h0 = self.sigmoid(z)\n",
    "            update_weight = np.dot(h0 - Y_train, X_train.T) / m\n",
    "            update_bias = np.sum(h0 - Y_train) / m\n",
    "            self.weight = self.weight - self.learning_rate * update_weight.T\n",
    "            self.bias = self.bias - self.learning_rate * update_bias\n",
    "            if i % 1000 == 0:\n",
    "                cost = self.cross_entropy(h0, Y_train, m)\n",
    "                cost_list.append(cost)\n",
    "                print(f\"После {i} итерации значение функции стоимости = {cost}\")\n",
    "        return cost_list\n",
    "    \n",
    "    def fit_rmsprop(self, X_train, Y_train, beta=0.9, eps=1e-8):\n",
    "        X_train = X_train.values\n",
    "        Y_train = Y_train.values\n",
    "        X_train = X_train.T\n",
    "        Y_train = Y_train.reshape(1, X_train.shape[1])\n",
    "        m = X_train.shape[1]\n",
    "        n = X_train.shape[0]\n",
    "        self.weight = np.zeros((n,1))\n",
    "        self.bias = 0\n",
    "        cost_list = []\n",
    "        for i in range(len(X_train)):\n",
    "            print(i)\n",
    "    \n",
    "    def predict(self, X_pred):\n",
    "        X_pred = X_pred.values\n",
    "        X_pred = X_pred.T\n",
    "        z = np.dot(self.weight.T, X_pred) + self.bias\n",
    "        h0 = self.sigmoid(z)\n",
    "        Y_pred = np.zeros((1, X_pred.shape[1]))\n",
    "        for i in range(h0.shape[1]):\n",
    "            if h0[0, i] <= 0.5:\n",
    "                Y_pred[0, i] = 0\n",
    "            else:\n",
    "                Y_pred[0, i] = 1\n",
    "        Y_pred = Y_pred.flatten()\n",
    "        Y_pred = pd.DataFrame({\"Result\": Y_pred})\n",
    "        return Y_pred"
   ]
  },
  {
   "cell_type": "code",
   "execution_count": 56,
   "id": "44e49d8b",
   "metadata": {},
   "outputs": [
    {
     "name": "stdout",
     "output_type": "stream",
     "text": [
      "После 0 итерации значение функции стоимости = 0.6931471805599454\n",
      "После 1000 итерации значение функции стоимости = 0.6213034696308324\n",
      "После 2000 итерации значение функции стоимости = 0.568674582954521\n",
      "После 3000 итерации значение функции стоимости = 0.524097971713376\n",
      "После 4000 итерации значение функции стоимости = 0.4861235039612199\n",
      "После 5000 итерации значение функции стоимости = 0.453553234250314\n",
      "После 6000 итерации значение функции стоимости = 0.42541536094586196\n",
      "После 7000 итерации значение функции стоимости = 0.40092867136815863\n",
      "После 8000 итерации значение функции стоимости = 0.37946706205349773\n",
      "После 9000 итерации значение функции стоимости = 0.36052826922388925\n",
      "0.9\n",
      "0    17\n",
      "1    13\n",
      "Name: target, dtype: int64\n"
     ]
    }
   ],
   "source": [
    "from sklearn.metrics import accuracy_score\n",
    "\n",
    "model = MyLogisticRegression()\n",
    "model.fit_gradient(X_train, Y_train)\n",
    "Y_pred = model.predict(X_test)\n",
    "print(accuracy_score(Y_pred, Y_test))\n",
    "print(Y_test.value_counts())"
   ]
  },
  {
   "cell_type": "code",
   "execution_count": 61,
   "id": "cc18870b",
   "metadata": {},
   "outputs": [
    {
     "ename": "NameError",
     "evalue": "name 'x' is not defined",
     "output_type": "error",
     "traceback": [
      "\u001b[1;31m---------------------------------------------------------------------------\u001b[0m",
      "\u001b[1;31mNameError\u001b[0m                                 Traceback (most recent call last)",
      "Cell \u001b[1;32mIn[61], line 2\u001b[0m\n\u001b[0;32m      1\u001b[0m model2 \u001b[38;5;241m=\u001b[39m MyLogisticRegression()\n\u001b[1;32m----> 2\u001b[0m \u001b[43mmodel\u001b[49m\u001b[38;5;241;43m.\u001b[39;49m\u001b[43mfit_rmsprop\u001b[49m\u001b[43m(\u001b[49m\u001b[43mX_train\u001b[49m\u001b[43m,\u001b[49m\u001b[43m \u001b[49m\u001b[43mY_train\u001b[49m\u001b[43m)\u001b[49m\n",
      "Cell \u001b[1;32mIn[55], line 48\u001b[0m, in \u001b[0;36mMyLogisticRegression.fit_rmsprop\u001b[1;34m(self, X_train, Y_train, beta, eps)\u001b[0m\n\u001b[0;32m     46\u001b[0m \u001b[38;5;28mself\u001b[39m\u001b[38;5;241m.\u001b[39mbias \u001b[38;5;241m=\u001b[39m \u001b[38;5;241m0\u001b[39m\n\u001b[0;32m     47\u001b[0m cost_list \u001b[38;5;241m=\u001b[39m []\n\u001b[1;32m---> 48\u001b[0m \u001b[38;5;28;01mfor\u001b[39;00m i \u001b[38;5;129;01min\u001b[39;00m \u001b[38;5;28mrange\u001b[39m(\u001b[38;5;28mlen\u001b[39m(\u001b[43mx\u001b[49m)):\n\u001b[0;32m     49\u001b[0m     \u001b[38;5;28mprint\u001b[39m(i)\n",
      "\u001b[1;31mNameError\u001b[0m: name 'x' is not defined"
     ]
    }
   ],
   "source": [
    "model2 = MyLogisticRegression()\n",
    "model.fit_rmsprop(X_train, Y_train)"
   ]
  },
  {
   "cell_type": "code",
   "execution_count": 59,
   "id": "8c53ef6a",
   "metadata": {},
   "outputs": [
    {
     "data": {
      "text/plain": [
       "-1.7687806204886143"
      ]
     },
     "execution_count": 59,
     "metadata": {},
     "output_type": "execute_result"
    }
   ],
   "source": []
  },
  {
   "cell_type": "code",
   "execution_count": null,
   "id": "1bfa832f",
   "metadata": {},
   "outputs": [],
   "source": []
  }
 ],
 "metadata": {
  "kernelspec": {
   "display_name": "Python 3 (ipykernel)",
   "language": "python",
   "name": "python3"
  },
  "language_info": {
   "codemirror_mode": {
    "name": "ipython",
    "version": 3
   },
   "file_extension": ".py",
   "mimetype": "text/x-python",
   "name": "python",
   "nbconvert_exporter": "python",
   "pygments_lexer": "ipython3",
   "version": "3.11.1"
  }
 },
 "nbformat": 4,
 "nbformat_minor": 5
}

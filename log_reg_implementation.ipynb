{
 "cells": [
  {
   "cell_type": "code",
   "execution_count": 129,
   "id": "265f7731",
   "metadata": {},
   "outputs": [],
   "source": [
    "import pandas as pd\n",
    "import numpy as np\n",
    "import seaborn as sns\n",
    "import matplotlib.pyplot as plt\n",
    "from sklearn import datasets\n",
    "import math"
   ]
  },
  {
   "cell_type": "markdown",
   "id": "c7926448",
   "metadata": {},
   "source": [
    "# Загрузка данных и их обработка"
   ]
  },
  {
   "cell_type": "code",
   "execution_count": 130,
   "id": "f780e983",
   "metadata": {},
   "outputs": [
    {
     "name": "stdout",
     "output_type": "stream",
     "text": [
      "<class 'pandas.core.frame.DataFrame'>\n",
      "Int64Index: 100 entries, 50 to 149\n",
      "Data columns (total 5 columns):\n",
      " #   Column             Non-Null Count  Dtype  \n",
      "---  ------             --------------  -----  \n",
      " 0   sepal length (cm)  100 non-null    float64\n",
      " 1   sepal width (cm)   100 non-null    float64\n",
      " 2   petal length (cm)  100 non-null    float64\n",
      " 3   petal width (cm)   100 non-null    float64\n",
      " 4   target             100 non-null    int32  \n",
      "dtypes: float64(4), int32(1)\n",
      "memory usage: 4.3 KB\n"
     ]
    }
   ],
   "source": [
    "iris = datasets.load_iris()\n",
    "data = pd.DataFrame(iris.data, columns=iris.feature_names)\n",
    "data['target'] = iris.target\n",
    "\n",
    "data = data.loc[(data[\"target\"] == 1) | (data[\"target\"] == 2)] # выбор нужных классов ириса\n",
    "data.info()"
   ]
  },
  {
   "cell_type": "code",
   "execution_count": 131,
   "id": "1738c61f",
   "metadata": {},
   "outputs": [
    {
     "data": {
      "text/html": [
       "<div>\n",
       "<style scoped>\n",
       "    .dataframe tbody tr th:only-of-type {\n",
       "        vertical-align: middle;\n",
       "    }\n",
       "\n",
       "    .dataframe tbody tr th {\n",
       "        vertical-align: top;\n",
       "    }\n",
       "\n",
       "    .dataframe thead th {\n",
       "        text-align: right;\n",
       "    }\n",
       "</style>\n",
       "<table border=\"1\" class=\"dataframe\">\n",
       "  <thead>\n",
       "    <tr style=\"text-align: right;\">\n",
       "      <th></th>\n",
       "      <th>sepal length (cm)</th>\n",
       "      <th>sepal width (cm)</th>\n",
       "      <th>petal length (cm)</th>\n",
       "      <th>petal width (cm)</th>\n",
       "      <th>target</th>\n",
       "    </tr>\n",
       "  </thead>\n",
       "  <tbody>\n",
       "    <tr>\n",
       "      <th>50</th>\n",
       "      <td>7.0</td>\n",
       "      <td>3.2</td>\n",
       "      <td>4.7</td>\n",
       "      <td>1.4</td>\n",
       "      <td>1</td>\n",
       "    </tr>\n",
       "    <tr>\n",
       "      <th>51</th>\n",
       "      <td>6.4</td>\n",
       "      <td>3.2</td>\n",
       "      <td>4.5</td>\n",
       "      <td>1.5</td>\n",
       "      <td>1</td>\n",
       "    </tr>\n",
       "    <tr>\n",
       "      <th>52</th>\n",
       "      <td>6.9</td>\n",
       "      <td>3.1</td>\n",
       "      <td>4.9</td>\n",
       "      <td>1.5</td>\n",
       "      <td>1</td>\n",
       "    </tr>\n",
       "    <tr>\n",
       "      <th>53</th>\n",
       "      <td>5.5</td>\n",
       "      <td>2.3</td>\n",
       "      <td>4.0</td>\n",
       "      <td>1.3</td>\n",
       "      <td>1</td>\n",
       "    </tr>\n",
       "    <tr>\n",
       "      <th>54</th>\n",
       "      <td>6.5</td>\n",
       "      <td>2.8</td>\n",
       "      <td>4.6</td>\n",
       "      <td>1.5</td>\n",
       "      <td>1</td>\n",
       "    </tr>\n",
       "  </tbody>\n",
       "</table>\n",
       "</div>"
      ],
      "text/plain": [
       "    sepal length (cm)  sepal width (cm)  petal length (cm)  petal width (cm)  \\\n",
       "50                7.0               3.2                4.7               1.4   \n",
       "51                6.4               3.2                4.5               1.5   \n",
       "52                6.9               3.1                4.9               1.5   \n",
       "53                5.5               2.3                4.0               1.3   \n",
       "54                6.5               2.8                4.6               1.5   \n",
       "\n",
       "    target  \n",
       "50       1  \n",
       "51       1  \n",
       "52       1  \n",
       "53       1  \n",
       "54       1  "
      ]
     },
     "execution_count": 131,
     "metadata": {},
     "output_type": "execute_result"
    }
   ],
   "source": [
    "data.head()"
   ]
  },
  {
   "cell_type": "code",
   "execution_count": 132,
   "id": "acaee77b",
   "metadata": {},
   "outputs": [
    {
     "data": {
      "text/plain": [
       "0    50\n",
       "1    50\n",
       "Name: target, dtype: int64"
      ]
     },
     "execution_count": 132,
     "metadata": {},
     "output_type": "execute_result"
    }
   ],
   "source": [
    "X = data.drop([\"target\"], axis=1)\n",
    "Y = data[\"target\"].map({2: 1, 1: 0})\n",
    "Y.value_counts()"
   ]
  },
  {
   "cell_type": "code",
   "execution_count": 133,
   "id": "d3758e63",
   "metadata": {},
   "outputs": [],
   "source": [
    "from sklearn.model_selection import train_test_split\n",
    "\n",
    "X_train, X_test, Y_train, Y_test = train_test_split(X, Y, test_size=0.3, random_state=42)"
   ]
  },
  {
   "cell_type": "markdown",
   "id": "e15f413f",
   "metadata": {},
   "source": [
    "# Реализация класса логистической регрессии"
   ]
  },
  {
   "cell_type": "code",
   "execution_count": 134,
   "id": "94127bc8",
   "metadata": {},
   "outputs": [],
   "source": [
    "class MyLogisticRegression:\n",
    "    def __init__(self, learning_rate=0.01):\n",
    "        self.learning_rate = learning_rate\n",
    "        self.weight = None\n",
    "        self.bias = None\n",
    "\n",
    "    def sigmoid(self, z):\n",
    "        return 1 / (1 + np.exp(-z))\n",
    "\n",
    "    def cross_entropy(self, h0, y, m):\n",
    "        h0 = np.clip(h0, 0.0001, 0.9999)\n",
    "        return np.sum(-y * np.log(h0) - (1 - y) * np.log(1 - h0))/m\n",
    "\n",
    "    def fit_gradient(self, X_train, Y_train, num_iterations=10000):\n",
    "        X_train = X_train.values\n",
    "        Y_train = Y_train.values\n",
    "        X_train = X_train.T\n",
    "        Y_train = Y_train.reshape(1, X_train.shape[1])\n",
    "        m = X_train.shape[1]\n",
    "        n = X_train.shape[0]\n",
    "        self.weight = np.random.randn(1, n)\n",
    "        self.bias = 0\n",
    "        cost_list = []\n",
    "        for i in range(num_iterations):\n",
    "            z = np.dot(self.weight, X_train) + self.bias\n",
    "            h0 = self.sigmoid(z)\n",
    "            update_weight = np.dot(h0 - Y_train, X_train.T) / m\n",
    "            update_bias = np.sum(h0 - Y_train) / m\n",
    "            self.weight = self.weight - self.learning_rate * update_weight\n",
    "            self.bias = self.bias - self.learning_rate * update_bias\n",
    "            if i % 1000 == 0:\n",
    "                cost = self.cross_entropy(h0, Y_train, m)\n",
    "                cost_list.append(cost)\n",
    "                print(f\"После {i} итерации значение функции стоимости = {cost}\")\n",
    "        return cost_list\n",
    "\n",
    "    def fit_rmsprop(self, X_train, Y_train, beta=0.9, eps=1e-8, num_iterations=1000):\n",
    "        X_train = X_train.values\n",
    "        Y_train = Y_train.values\n",
    "        X_train = X_train.T\n",
    "        Y_train = Y_train.reshape(1, X_train.shape[1])\n",
    "        m = X_train.shape[1]\n",
    "        n = X_train.shape[0]\n",
    "        self.weight = np.random.randn(1, n)\n",
    "        self.bias = 0\n",
    "        v_dw = np.zeros_like(self.weight)\n",
    "        v_db = 0\n",
    "        cost_list = []\n",
    "        for i in range(num_iterations):\n",
    "            z = np.dot(self.weight, X_train) + self.bias\n",
    "            h0 = self.sigmoid(z)\n",
    "            dw = np.dot(h0 - Y_train, X_train.T) / m\n",
    "            db = np.sum(h0 - Y_train) / m\n",
    "            v_dw = beta * v_dw + (1 - beta) * dw**2\n",
    "            v_db = beta * v_db + (1 - beta) * db**2\n",
    "            self.weight -= self.learning_rate * dw / (np.sqrt(v_dw) + eps)\n",
    "            self.bias -= self.learning_rate * db / (np.sqrt(v_db) + eps)\n",
    "            if i % 100 == 0:\n",
    "                cost = self.cross_entropy(h0, Y_train, m)\n",
    "                cost_list.append(cost)\n",
    "                print(f\"После {i} итерации значение функции стоимости = {cost}\")\n",
    "        return cost_list\n",
    "    \n",
    "    def fit_nadam(self, X_train, Y_train, mu=0.975, nu=0.999, eps=1e-8, num_iterations=2000):\n",
    "        X_train = X_train.values\n",
    "        Y_train = Y_train.values\n",
    "        X_train = X_train.T\n",
    "        Y_train = Y_train.reshape(1, X_train.shape[1])\n",
    "        m = X_train.shape[1]\n",
    "        n = X_train.shape[0]\n",
    "        self.weight = np.random.randn(1, n)\n",
    "        self.bias = -7.380594851807613 # взят по методу RMSProp\n",
    "        m_param = np.zeros_like(self.weight)\n",
    "        n_param = np.zeros_like(self.weight)\n",
    "        cost_list = []\n",
    "        for i in range(num_iterations):\n",
    "            z = np.dot(self.weight, X_train) + self.bias\n",
    "            h0 = self.sigmoid(z)\n",
    "            dw = np.dot(h0 - Y_train, X_train.T) / m\n",
    "            m_param = mu * m_param + (1 - mu) * dw\n",
    "            n_param = nu * n_param + (1 - nu) * dw**2\n",
    "            mhat = (mu * m_param / (1 - mu)) + ((1 - mu) * dw / (1 - mu))\n",
    "            nhat = nu * n_param / (1 - nu)\n",
    "            self.weight -= self.learning_rate / (np.sqrt(nhat) + eps) * mhat\n",
    "            if i % 100 == 0:\n",
    "                cost = self.cross_entropy(h0, Y_train, m)\n",
    "                cost_list.append(cost)\n",
    "                print(f\"После {i} итерации значение функции стоимости = {cost}\")\n",
    "        return cost_list\n",
    "    \n",
    "    def predict(self, X_pred):\n",
    "        X_pred = X_pred.values\n",
    "        X_pred = X_pred.T\n",
    "        z = np.dot(self.weight, X_pred) + self.bias\n",
    "        h0 = self.sigmoid(z)\n",
    "        Y_pred = np.zeros((1, X_pred.shape[1]))\n",
    "        for i in range(h0.shape[1]):\n",
    "            if h0[0, i] <= 0.5:\n",
    "                Y_pred[0, i] = 0\n",
    "            else:\n",
    "                Y_pred[0, i] = 1\n",
    "        Y_pred = Y_pred.flatten()\n",
    "        Y_pred = pd.DataFrame({\"Result\": Y_pred})\n",
    "        return Y_pred"
   ]
  },
  {
   "cell_type": "markdown",
   "id": "2614cf89",
   "metadata": {},
   "source": [
    "# Обучение"
   ]
  },
  {
   "cell_type": "code",
   "execution_count": 135,
   "id": "44e49d8b",
   "metadata": {},
   "outputs": [
    {
     "name": "stdout",
     "output_type": "stream",
     "text": [
      "После 0 итерации значение функции стоимости = 4.282778174826798\n",
      "После 1000 итерации значение функции стоимости = 0.4302604965889143\n",
      "После 2000 итерации значение функции стоимости = 0.30698567612636535\n",
      "После 3000 итерации значение функции стоимости = 0.2454092633655421\n",
      "После 4000 итерации значение функции стоимости = 0.20849523874277515\n",
      "После 5000 итерации значение функции стоимости = 0.18371028720346924\n",
      "После 6000 итерации значение функции стоимости = 0.16577391249773912\n",
      "После 7000 итерации значение функции стоимости = 0.15209225630170686\n",
      "После 8000 итерации значение функции стоимости = 0.1412437542001003\n",
      "После 9000 итерации значение функции стоимости = 0.13238338638801883\n"
     ]
    }
   ],
   "source": [
    "from sklearn.metrics import accuracy_score\n",
    "\n",
    "results = []\n",
    "\n",
    "model = MyLogisticRegression()\n",
    "model.fit_gradient(X_train, Y_train)\n",
    "Y_pred = model.predict(X_test)\n",
    "results.append(accuracy_score(Y_pred, Y_test))"
   ]
  },
  {
   "cell_type": "code",
   "execution_count": 136,
   "id": "cc18870b",
   "metadata": {},
   "outputs": [
    {
     "name": "stdout",
     "output_type": "stream",
     "text": [
      "После 0 итерации значение функции стоимости = 0.7507107466606253\n",
      "После 100 итерации значение функции стоимости = 0.4265997160338322\n",
      "После 200 итерации значение функции стоимости = 0.2706040154392928\n",
      "После 300 итерации значение функции стоимости = 0.18553083362989867\n",
      "После 400 итерации значение функции стоимости = 0.1358601173820261\n",
      "После 500 итерации значение функции стоимости = 0.1047127963070876\n",
      "После 600 итерации значение функции стоимости = 0.08397859965551735\n",
      "После 700 итерации значение функции стоимости = 0.06946857906604283\n",
      "После 800 итерации значение функции стоимости = 0.05886541936363898\n",
      "После 900 итерации значение функции стоимости = 0.050821744225240884\n",
      "-7.359852431115496\n"
     ]
    }
   ],
   "source": [
    "model2 = MyLogisticRegression()\n",
    "model2.fit_rmsprop(X_train, Y_train)\n",
    "Y_pred = model2.predict(X_test)\n",
    "print(model2.bias)\n",
    "results.append(accuracy_score(Y_pred, Y_test))"
   ]
  },
  {
   "cell_type": "code",
   "execution_count": 137,
   "id": "8c53ef6a",
   "metadata": {},
   "outputs": [
    {
     "name": "stdout",
     "output_type": "stream",
     "text": [
      "После 0 итерации значение функции стоимости = 4.868369913258997\n",
      "После 100 итерации значение функции стоимости = 0.833618024981764\n",
      "После 200 итерации значение функции стоимости = 0.4073685770956378\n",
      "После 300 итерации значение функции стоимости = 0.3505449852404651\n",
      "После 400 итерации значение функции стоимости = 0.3136135378698714\n",
      "После 500 итерации значение функции стоимости = 0.28323909309183504\n",
      "После 600 итерации значение функции стоимости = 0.25789642899166976\n",
      "После 700 итерации значение функции стоимости = 0.23647703376760876\n",
      "После 800 итерации значение функции стоимости = 0.21816515646160203\n",
      "После 900 итерации значение функции стоимости = 0.20234725167819081\n",
      "После 1000 итерации значение функции стоимости = 0.1885555588488541\n",
      "После 1100 итерации значение функции стоимости = 0.176428983698802\n",
      "После 1200 итерации значение функции стоимости = 0.1656853451554405\n",
      "После 1300 итерации значение функции стоимости = 0.15610153077984798\n",
      "После 1400 итерации значение функции стоимости = 0.1474991694188647\n",
      "После 1500 итерации значение функции стоимости = 0.13973417455641432\n",
      "После 1600 итерации значение функции стоимости = 0.13268902611095162\n",
      "После 1700 итерации значение функции стоимости = 0.12626700895609752\n",
      "После 1800 итерации значение функции стоимости = 0.12038786453538469\n",
      "После 1900 итерации значение функции стоимости = 0.1149844740819846\n"
     ]
    }
   ],
   "source": [
    "model3 = MyLogisticRegression()\n",
    "model3.fit_nadam(X_train, Y_train)\n",
    "Y_pred = model3.predict(X_test)\n",
    "results.append(accuracy_score(Y_pred, Y_test))"
   ]
  },
  {
   "cell_type": "markdown",
   "id": "662322a1",
   "metadata": {},
   "source": [
    "# Результаты"
   ]
  },
  {
   "cell_type": "code",
   "execution_count": 138,
   "id": "1bfa832f",
   "metadata": {},
   "outputs": [
    {
     "data": {
      "text/html": [
       "<div>\n",
       "<style scoped>\n",
       "    .dataframe tbody tr th:only-of-type {\n",
       "        vertical-align: middle;\n",
       "    }\n",
       "\n",
       "    .dataframe tbody tr th {\n",
       "        vertical-align: top;\n",
       "    }\n",
       "\n",
       "    .dataframe thead th {\n",
       "        text-align: right;\n",
       "    }\n",
       "</style>\n",
       "<table border=\"1\" class=\"dataframe\">\n",
       "  <thead>\n",
       "    <tr style=\"text-align: right;\">\n",
       "      <th></th>\n",
       "      <th>Result</th>\n",
       "    </tr>\n",
       "  </thead>\n",
       "  <tbody>\n",
       "    <tr>\n",
       "      <th>Gradiend_Descent</th>\n",
       "      <td>0.9</td>\n",
       "    </tr>\n",
       "    <tr>\n",
       "      <th>RMSProp</th>\n",
       "      <td>0.9</td>\n",
       "    </tr>\n",
       "    <tr>\n",
       "      <th>Nadam</th>\n",
       "      <td>0.9</td>\n",
       "    </tr>\n",
       "  </tbody>\n",
       "</table>\n",
       "</div>"
      ],
      "text/plain": [
       "                  Result\n",
       "Gradiend_Descent     0.9\n",
       "RMSProp              0.9\n",
       "Nadam                0.9"
      ]
     },
     "execution_count": 138,
     "metadata": {},
     "output_type": "execute_result"
    }
   ],
   "source": [
    "result_df = pd.DataFrame(data=results, columns=[\"Result\"], index=[\"Gradiend_Descent\", \"RMSProp\", \"Nadam\"])\n",
    "result_df"
   ]
  },
  {
   "cell_type": "markdown",
   "id": "7f9c5cd0",
   "metadata": {},
   "source": [
    "# Вывод\n",
    "Каждый из методов имеет свои преимущества и недостатки. Датасет был очень маленький, поэтому методы показали +- одинаковые результаты. Я бы выбрал метод Nadam, так как он не требует такого большого количества итераций, как Градиентный спуск, при этом имеет много переменных, которые можно настроить под себя. Но если говорить о простоте, то Градиентный спуск явно выигрывает. RMSProp во всём этом уверенный среднячок."
   ]
  },
  {
   "cell_type": "code",
   "execution_count": null,
   "id": "68fc9407",
   "metadata": {},
   "outputs": [],
   "source": []
  }
 ],
 "metadata": {
  "kernelspec": {
   "display_name": "Python 3 (ipykernel)",
   "language": "python",
   "name": "python3"
  },
  "language_info": {
   "codemirror_mode": {
    "name": "ipython",
    "version": 3
   },
   "file_extension": ".py",
   "mimetype": "text/x-python",
   "name": "python",
   "nbconvert_exporter": "python",
   "pygments_lexer": "ipython3",
   "version": "3.11.1"
  }
 },
 "nbformat": 4,
 "nbformat_minor": 5
}
